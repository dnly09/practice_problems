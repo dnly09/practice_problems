{
 "cells": [
  {
   "cell_type": "markdown",
   "metadata": {},
   "source": [
    "Solve Me First"
   ]
  },
  {
   "cell_type": "code",
   "execution_count": 1,
   "metadata": {},
   "outputs": [],
   "source": [
    "def solveMeFirst(a,b):\n",
    "    return a+b"
   ]
  },
  {
   "cell_type": "markdown",
   "metadata": {},
   "source": [
    "Simple Array Sum"
   ]
  },
  {
   "cell_type": "code",
   "execution_count": null,
   "metadata": {},
   "outputs": [],
   "source": [
    "def simpleArraySum(ar):\n",
    "    return sum(ar)"
   ]
  },
  {
   "cell_type": "markdown",
   "metadata": {},
   "source": [
    "Compare the Triplets"
   ]
  },
  {
   "cell_type": "code",
   "execution_count": 2,
   "metadata": {},
   "outputs": [],
   "source": [
    "def compareTriplets(a, b):\n",
    "    comparison = [0, 0]\n",
    "    for i in range(len(a)):\n",
    "        if a[i] == b[i]:\n",
    "            pass\n",
    "        elif a[i] > b[i]:\n",
    "            comparison[0] += 1\n",
    "        else:\n",
    "            comparison[1] += 1\n",
    "    return comparison"
   ]
  },
  {
   "cell_type": "markdown",
   "metadata": {},
   "source": [
    "A Very Big Sum"
   ]
  },
  {
   "cell_type": "code",
   "execution_count": 3,
   "metadata": {},
   "outputs": [],
   "source": [
    "def aVeryBigSum(ar):\n",
    "    return sum(ar)"
   ]
  },
  {
   "cell_type": "markdown",
   "metadata": {},
   "source": [
    "Diagonal Difference"
   ]
  },
  {
   "cell_type": "code",
   "execution_count": 4,
   "metadata": {},
   "outputs": [],
   "source": [
    "def diagonalDifference(arr):\n",
    "    n = len(arr)\n",
    "    sum_updown_diagonal = sum(arr[i][i] for i in range(n))\n",
    "    sum_downup_diagonal = sum(arr[n-i-1][i] for i in range(n))\n",
    "    return abs(sum_downup_diagonal - sum_updown_diagonal)\n",
    "    # return abs(sum_downup_diagonal)"
   ]
  },
  {
   "cell_type": "markdown",
   "metadata": {},
   "source": [
    "Plus Minus"
   ]
  },
  {
   "cell_type": "code",
   "execution_count": 5,
   "metadata": {},
   "outputs": [],
   "source": [
    "def plusMinus(arr):\n",
    "    total = len(arr)\n",
    "    pos = 0\n",
    "    z = 0\n",
    "    neg = 0\n",
    "    mod = 10 ** 4\n",
    "    for i in arr:\n",
    "        if i > 0:\n",
    "            pos += 1\n",
    "        elif i == 0:\n",
    "            z += 1\n",
    "        else:\n",
    "            neg += 1\n",
    "    print(float(int(pos/total * mod)) / mod)\n",
    "    print(float(int(neg/total * mod)) / mod)\n",
    "    print(float(int(z/total * mod)) / mod)"
   ]
  },
  {
   "cell_type": "markdown",
   "metadata": {},
   "source": [
    "Min Max Sum"
   ]
  },
  {
   "cell_type": "code",
   "execution_count": 1,
   "metadata": {},
   "outputs": [],
   "source": [
    "def miniMaxSum(arr):\n",
    "    arr_sum = []\n",
    "    for i in range(len(arr)):\n",
    "        a = arr.copy()\n",
    "        a.pop(i)\n",
    "        arr_sum.append(sum(a))\n",
    "    print(min(arr_sum), max(arr_sum))"
   ]
  },
  {
   "cell_type": "markdown",
   "metadata": {},
   "source": [
    "Birthday Cake Candles"
   ]
  },
  {
   "cell_type": "code",
   "execution_count": 2,
   "metadata": {},
   "outputs": [],
   "source": [
    "def birthdayCakeCandles(ar):\n",
    "    return ar.count(max(ar))"
   ]
  },
  {
   "cell_type": "code",
   "execution_count": 26,
   "metadata": {},
   "outputs": [
    {
     "data": {
      "text/plain": [
       "'19:05:45'"
      ]
     },
     "execution_count": 26,
     "metadata": {},
     "output_type": "execute_result"
    }
   ],
   "source": [
    "s = '07:05:45PM'\n",
    "# list_s = list(s)\n",
    "# list_s = [e for e in list_s if e not in (':', 'A', 'P', 'M')]\n",
    "# list_s = ''.join(list_s)\n",
    "# int(list_s)\n",
    "str(int(s[:2])+12)+s[2:-2]"
   ]
  },
  {
   "cell_type": "markdown",
   "metadata": {},
   "source": [
    "Time Conversion"
   ]
  },
  {
   "cell_type": "code",
   "execution_count": 31,
   "metadata": {},
   "outputs": [],
   "source": [
    "def timeConversion(s):\n",
    "    if s[-2] == 'A':\n",
    "        if s[:2] == '12':\n",
    "            return '00'+s[2:-2]\n",
    "        else:\n",
    "            return s[:-2]\n",
    "    elif s[-2] == 'P':\n",
    "        if s[:2] == '12':\n",
    "            return s[:-2]\n",
    "        else:\n",
    "            return str(int(s[:2])+12)+s[2:-2]"
   ]
  },
  {
   "cell_type": "code",
   "execution_count": 33,
   "metadata": {},
   "outputs": [
    {
     "data": {
      "text/plain": [
       "'12:45:54'"
      ]
     },
     "execution_count": 33,
     "metadata": {},
     "output_type": "execute_result"
    }
   ],
   "source": [
    "timeConversion('12:45:54PM')"
   ]
  },
  {
   "cell_type": "markdown",
   "metadata": {},
   "source": [
    "Staircase"
   ]
  },
  {
   "cell_type": "code",
   "execution_count": 40,
   "metadata": {},
   "outputs": [],
   "source": [
    "def staircase(n):\n",
    "    n_count = 1\n",
    "    while n_count <= n:\n",
    "        print(' '*(n-n_count)+n_count*'#')\n",
    "        n_count += 1"
   ]
  },
  {
   "cell_type": "code",
   "execution_count": null,
   "metadata": {},
   "outputs": [],
   "source": []
  }
 ],
 "metadata": {
  "kernelspec": {
   "display_name": "Python 3",
   "language": "python",
   "name": "python3"
  },
  "language_info": {
   "codemirror_mode": {
    "name": "ipython",
    "version": 3
   },
   "file_extension": ".py",
   "mimetype": "text/x-python",
   "name": "python",
   "nbconvert_exporter": "python",
   "pygments_lexer": "ipython3",
   "version": "3.7.0"
  }
 },
 "nbformat": 4,
 "nbformat_minor": 2
}
